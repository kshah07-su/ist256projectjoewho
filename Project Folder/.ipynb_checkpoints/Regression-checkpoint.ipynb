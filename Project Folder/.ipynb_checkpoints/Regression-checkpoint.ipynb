{
 "cells": [
  {
   "cell_type": "code",
   "execution_count": 2,
   "metadata": {},
   "outputs": [
    {
     "name": "stdout",
     "output_type": "stream",
     "text": [
      "Collecting statsmodels\n",
      "\u001b[?25l  Downloading https://files.pythonhosted.org/packages/a6/32/5f8cff131e678a73b8f390ff7d8a04d502ed45e379378a0c5b9c25175239/statsmodels-0.10.2-cp37-cp37m-manylinux1_x86_64.whl (8.1MB)\n",
      "\u001b[K     |████████████████████████████████| 8.1MB 4.3MB/s eta 0:00:01\n",
      "\u001b[?25hInstalling collected packages: statsmodels\n",
      "Successfully installed statsmodels-0.10.2\n",
      "Requirement already up-to-date: statsmodels in /opt/conda/lib/python3.7/site-packages (0.10.2)\n",
      "Collecting patsy\n",
      "\u001b[?25l  Downloading https://files.pythonhosted.org/packages/ea/0c/5f61f1a3d4385d6bf83b83ea495068857ff8dfb89e74824c6e9eb63286d8/patsy-0.5.1-py2.py3-none-any.whl (231kB)\n",
      "\u001b[K     |████████████████████████████████| 235kB 4.6MB/s eta 0:00:01\n",
      "\u001b[?25hRequirement already satisfied, skipping upgrade: six in /opt/conda/lib/python3.7/site-packages (from patsy) (1.12.0)\n",
      "Requirement already satisfied, skipping upgrade: numpy>=1.4 in /opt/conda/lib/python3.7/site-packages (from patsy) (1.17.1)\n",
      "Installing collected packages: patsy\n",
      "Successfully installed patsy-0.5.1\n",
      "Requirement already satisfied: numpy in /opt/conda/lib/python3.7/site-packages (1.17.1)\n",
      "Collecting user\n",
      "\u001b[31m  ERROR: Could not find a version that satisfies the requirement user (from versions: none)\u001b[0m\n",
      "\u001b[31mERROR: No matching distribution found for user\u001b[0m\n",
      "Requirement already satisfied: statsmodels in /opt/conda/lib/python3.7/site-packages (0.10.2)\n",
      "Requirement already satisfied: patsy>=0.4.0 in /opt/conda/lib/python3.7/site-packages (from statsmodels) (0.5.1)\n",
      "Requirement already satisfied: pandas>=0.19 in /opt/conda/lib/python3.7/site-packages (from statsmodels) (0.25.1)\n",
      "Requirement already satisfied: numpy>=1.11 in /opt/conda/lib/python3.7/site-packages (from statsmodels) (1.17.1)\n",
      "Requirement already satisfied: scipy>=0.18 in /opt/conda/lib/python3.7/site-packages (from statsmodels) (1.3.1)\n",
      "Requirement already satisfied: six in /opt/conda/lib/python3.7/site-packages (from patsy>=0.4.0->statsmodels) (1.12.0)\n",
      "Requirement already satisfied: pytz>=2017.2 in /opt/conda/lib/python3.7/site-packages (from pandas>=0.19->statsmodels) (2019.2)\n",
      "Requirement already satisfied: python-dateutil>=2.6.1 in /opt/conda/lib/python3.7/site-packages (from pandas>=0.19->statsmodels) (2.8.0)\n"
     ]
    }
   ],
   "source": [
    "!pip install --upgrade --no-deps statsmodels\n",
    "!pip install --upgrade --no-deps statsmodels\n",
    "!pip install --upgrade patsy\n",
    "!python -m pip install --user numpy\n",
    "!python -m pip install -- user scipy\n",
    "!pip install statsmodels"
   ]
  },
  {
   "cell_type": "code",
   "execution_count": 6,
   "metadata": {},
   "outputs": [
    {
     "name": "stdout",
     "output_type": "stream",
     "text": [
      "Please enter which variables you would like to use as independant variables (seprated by a space): wins losses weekday winpct\n",
      "                                 OLS Regression Results                                \n",
      "=======================================================================================\n",
      "Dep. Variable:                    att   R-squared (uncentered):                   0.855\n",
      "Model:                            OLS   Adj. R-squared (uncentered):              0.847\n",
      "Method:                 Least Squares   F-statistic:                              97.58\n",
      "Date:                Thu, 12 Dec 2019   Prob (F-statistic):                    5.69e-27\n",
      "Time:                        03:08:05   Log-Likelihood:                         -632.54\n",
      "No. Observations:                  70   AIC:                                      1273.\n",
      "Df Residuals:                      66   BIC:                                      1282.\n",
      "Df Model:                           4                                                  \n",
      "Covariance Type:            nonrobust                                                  \n",
      "==============================================================================\n",
      "                 coef    std err          t      P>|t|      [0.025      0.975]\n",
      "------------------------------------------------------------------------------\n",
      "wins        -111.4820     94.887     -1.175      0.244    -300.931      77.967\n",
      "losses       236.3618    113.301      2.086      0.041      10.148     462.575\n",
      "weekday      376.4304    114.315      3.293      0.002     148.194     604.667\n",
      "winpct      3190.0538   1092.779      2.919      0.005    1008.251    5371.857\n",
      "==============================================================================\n",
      "Omnibus:                       26.780   Durbin-Watson:                   1.778\n",
      "Prob(Omnibus):                  0.000   Jarque-Bera (JB):               41.468\n",
      "Skew:                           1.514   Prob(JB):                     9.89e-10\n",
      "Kurtosis:                       5.246   Cond. No.                         129.\n",
      "==============================================================================\n",
      "\n",
      "Warnings:\n",
      "[1] Standard Errors assume that the covariance matrix of the errors is correctly specified.\n"
     ]
    }
   ],
   "source": [
    "import pandas as pd\n",
    "import numpy as np\n",
    "import statsmodels.api as sm\n",
    "from patsy import dmatrices\n",
    "\n",
    "variables = input(\"Please enter which variables you would like to use as independant variables (seprated by a space): \")\n",
    "indepvariable = variables.split(\" \")\n",
    "\n",
    "with open ('SyracuseMets.csv', 'r') as f:\n",
    "    chart = pd.read_csv(f)\n",
    "\n",
    "x = chart[indepvariable]\n",
    "y = chart[['att']]\n",
    "model = sm.OLS(y.astype(float),x.astype(float))\n",
    "fit = model.fit()\n",
    "print(fit.summary())"
   ]
  }
 ],
 "metadata": {
  "kernelspec": {
   "display_name": "Python 3",
   "language": "python",
   "name": "python3"
  },
  "language_info": {
   "codemirror_mode": {
    "name": "ipython",
    "version": 3
   },
   "file_extension": ".py",
   "mimetype": "text/x-python",
   "name": "python",
   "nbconvert_exporter": "python",
   "pygments_lexer": "ipython3",
   "version": "3.7.3"
  }
 },
 "nbformat": 4,
 "nbformat_minor": 2
}
