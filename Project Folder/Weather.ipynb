{
 "cells": [
  {
   "cell_type": "code",
   "execution_count": 5,
   "metadata": {},
   "outputs": [
    {
     "ename": "IndentationError",
     "evalue": "unindent does not match any outer indentation level (<tokenize>, line 12)",
     "output_type": "error",
     "traceback": [
      "\u001b[0;36m  File \u001b[0;32m\"<tokenize>\"\u001b[0;36m, line \u001b[0;32m12\u001b[0m\n\u001b[0;31m    try:\u001b[0m\n\u001b[0m    ^\u001b[0m\n\u001b[0;31mIndentationError\u001b[0m\u001b[0;31m:\u001b[0m unindent does not match any outer indentation level\n"
     ]
    }
   ],
   "source": [
    "import requests\n",
    "import pandas as pd\n",
    "from datetime import date, timedelta\n",
    "\n",
    "start_date = date(2019, 4, 4)\n",
    "end_date = date(2019, 8, 30)\n",
    "delta = timedelta(days=1)\n",
    "\n",
    "while True:\n",
    "        start_date <= end_date:\n",
    "        start_date += delta    \n",
    "    try: \n",
    "        time = 'T18:00:00'\n",
    "        startdate = str(start_date)\n",
    "        input_date = startdate+time\n",
    "        url = 'https://api.darksky.net/forecast/7345789497d9b3b215001db80cb44778/43.078488,-76.165237,'+input_date # coordinates input for NBT Stadium\n",
    "        result = requests.get(url)\n",
    "        json_version = result.json()\n",
    "        temperature = json_version['hourly']['data'][0]['temperature'] # get temperature at NBT Bank Stadium based on the hour\n",
    "        date = str(input_date)\n",
    "        temp = float(temperature)\n",
    "        weather = pd.DataFrame([[0,0]],columns=(('date'),('temp')))\n",
    "        weather1 = pd.DataFrame([[date,temp]],columns=(('date'),('temp')))\n",
    "        weather.append(weather1)    \n",
    "\n",
    "    except KeyError:\n",
    "        print(\"Please use the correct format when entering a date.\") # error for wrong format\n",
    "\n",
    "    except requests.exceptions.RequestException as error:\n",
    "        print(\"Error: can't connect to\" , url) # error for no internet connection\n",
    "        print(error)\n",
    "\n",
    "print(weather1)\n",
    "\n"
   ]
  },
  {
   "cell_type": "code",
   "execution_count": null,
   "metadata": {},
   "outputs": [],
   "source": [
    "start_date = date(2019, 4, 4)\n",
    "end_date = date(2019, 8, 30)\n",
    "delta = timedelta(days=1)"
   ]
  }
 ],
 "metadata": {
  "kernelspec": {
   "display_name": "Python 3",
   "language": "python",
   "name": "python3"
  },
  "language_info": {
   "codemirror_mode": {
    "name": "ipython",
    "version": 3
   },
   "file_extension": ".py",
   "mimetype": "text/x-python",
   "name": "python",
   "nbconvert_exporter": "python",
   "pygments_lexer": "ipython3",
   "version": "3.7.3"
  }
 },
 "nbformat": 4,
 "nbformat_minor": 2
}
